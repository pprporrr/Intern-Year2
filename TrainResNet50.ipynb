{
 "cells": [
  {
   "cell_type": "code",
   "execution_count": 1,
   "id": "d19c347d",
   "metadata": {},
   "outputs": [],
   "source": [
    "import tensorflow as tf\n",
    "from tensorflow.keras.applications import ResNet50\n",
    "from tensorflow.keras.models import Sequential\n",
    "from tensorflow.keras.layers import Dense\n",
    "from tensorflow.keras.preprocessing.image import ImageDataGenerator"
   ]
  },
  {
   "cell_type": "code",
   "execution_count": 2,
   "id": "c6eaf127",
   "metadata": {},
   "outputs": [],
   "source": [
    "trainDir = \"/Users/ppr/Desktop/Project/Intern-Year2/Datasets/GrayDatasetsResizeAugmented/train\"\n",
    "valDir = \"/Users/ppr/Desktop/Project/Intern-Year2/Datasets/GrayDatasetsResizeAugmented/val\"\n",
    "testDir = \"/Users/ppr/Desktop/Project/Intern-Year2/Datasets/GrayDatasetsResizeAugmented/test\""
   ]
  },
  {
   "cell_type": "code",
   "execution_count": 3,
   "id": "04d2bac6",
   "metadata": {},
   "outputs": [],
   "source": [
    "imgWidth, imgHeight = 640, 640\n",
    "numClasses = 11\n",
    "batchSize = 32\n",
    "epochs = 10"
   ]
  },
  {
   "cell_type": "code",
   "execution_count": 4,
   "id": "2c05f4e8",
   "metadata": {},
   "outputs": [],
   "source": [
    "base_model = ResNet50(weights='imagenet', include_top=False, input_shape=(imgWidth, imgHeight, 3))"
   ]
  },
  {
   "cell_type": "code",
   "execution_count": 5,
   "id": "66faa5f7",
   "metadata": {},
   "outputs": [],
   "source": [
    "for layer in base_model.layers:\n",
    "    layer.trainable = False"
   ]
  },
  {
   "cell_type": "code",
   "execution_count": 6,
   "id": "a7cfe5e1",
   "metadata": {},
   "outputs": [],
   "source": [
    "model = Sequential()\n",
    "model.add(base_model)\n",
    "model.add(tf.keras.layers.GlobalAveragePooling2D())\n",
    "model.add(Dense(256, activation='relu'))\n",
    "model.add(Dense(numClasses, activation='softmax'))"
   ]
  },
  {
   "cell_type": "code",
   "execution_count": 7,
   "id": "4cf59b64",
   "metadata": {},
   "outputs": [],
   "source": [
    "model.compile(loss='categorical_crossentropy', optimizer='adam', metrics=['accuracy'])"
   ]
  },
  {
   "cell_type": "code",
   "execution_count": 8,
   "id": "0345d4a2",
   "metadata": {},
   "outputs": [],
   "source": [
    "trainDatagen = ImageDataGenerator(rescale=1./255)\n",
    "valDatagen = ImageDataGenerator(rescale=1./255)\n",
    "testDatagen = ImageDataGenerator(rescale=1./255)"
   ]
  },
  {
   "cell_type": "code",
   "execution_count": 9,
   "id": "57e6b40a",
   "metadata": {},
   "outputs": [
    {
     "name": "stdout",
     "output_type": "stream",
     "text": [
      "Found 781 images belonging to 11 classes.\n",
      "Found 147 images belonging to 11 classes.\n",
      "Found 133 images belonging to 11 classes.\n"
     ]
    }
   ],
   "source": [
    "trainGenerator = trainDatagen.flow_from_directory(\n",
    "        trainDir,\n",
    "        target_size=(imgWidth, imgHeight),\n",
    "        batch_size=batchSize,\n",
    "        class_mode='categorical')\n",
    "\n",
    "valGenerator = valDatagen.flow_from_directory(\n",
    "        valDir,\n",
    "        target_size=(imgWidth, imgHeight),\n",
    "        batch_size=batchSize,\n",
    "        class_mode='categorical')\n",
    "\n",
    "testGenerator = testDatagen.flow_from_directory(\n",
    "        testDir,\n",
    "        target_size=(imgWidth, imgHeight),\n",
    "        batch_size=1,\n",
    "        shuffle=False,\n",
    "        class_mode='categorical')"
   ]
  },
  {
   "cell_type": "code",
   "execution_count": 10,
   "id": "91e7c408",
   "metadata": {},
   "outputs": [
    {
     "name": "stdout",
     "output_type": "stream",
     "text": [
      "Epoch 1/10\n"
     ]
    },
    {
     "name": "stderr",
     "output_type": "stream",
     "text": [
      "2023-05-31 18:30:44.508323: I tensorflow/core/common_runtime/executor.cc:1210] [/device:CPU:0] (DEBUG INFO) Executor start aborting (this does not indicate an error and you can ignore this message): INVALID_ARGUMENT: You must feed a value for placeholder tensor 'Placeholder/_0' with dtype int32\n",
      "\t [[{{node Placeholder/_0}}]]\n"
     ]
    },
    {
     "name": "stdout",
     "output_type": "stream",
     "text": [
      "25/25 [==============================] - ETA: 0s - loss: 2.9761 - accuracy: 0.1677"
     ]
    },
    {
     "name": "stderr",
     "output_type": "stream",
     "text": [
      "2023-05-31 18:33:19.458049: I tensorflow/core/common_runtime/executor.cc:1210] [/device:CPU:0] (DEBUG INFO) Executor start aborting (this does not indicate an error and you can ignore this message): INVALID_ARGUMENT: You must feed a value for placeholder tensor 'Placeholder/_0' with dtype int32\n",
      "\t [[{{node Placeholder/_0}}]]\n"
     ]
    },
    {
     "name": "stdout",
     "output_type": "stream",
     "text": [
      "25/25 [==============================] - 186s 7s/step - loss: 2.9761 - accuracy: 0.1677 - val_loss: 2.3929 - val_accuracy: 0.1497\n",
      "Epoch 2/10\n",
      "25/25 [==============================] - 193s 8s/step - loss: 2.2920 - accuracy: 0.2125 - val_loss: 2.2183 - val_accuracy: 0.2653\n",
      "Epoch 3/10\n",
      "25/25 [==============================] - 194s 8s/step - loss: 2.1346 - accuracy: 0.2369 - val_loss: 2.0775 - val_accuracy: 0.2857\n",
      "Epoch 4/10\n",
      "25/25 [==============================] - 194s 8s/step - loss: 2.1153 - accuracy: 0.2868 - val_loss: 2.0041 - val_accuracy: 0.2789\n",
      "Epoch 5/10\n",
      "25/25 [==============================] - 195s 8s/step - loss: 1.9737 - accuracy: 0.2907 - val_loss: 1.9402 - val_accuracy: 0.3537\n",
      "Epoch 6/10\n",
      "25/25 [==============================] - 196s 8s/step - loss: 1.9762 - accuracy: 0.2958 - val_loss: 1.9869 - val_accuracy: 0.2993\n",
      "Epoch 7/10\n",
      "25/25 [==============================] - 193s 8s/step - loss: 2.0018 - accuracy: 0.2881 - val_loss: 2.1263 - val_accuracy: 0.1837\n",
      "Epoch 8/10\n",
      "25/25 [==============================] - 185s 7s/step - loss: 1.9657 - accuracy: 0.3188 - val_loss: 1.9144 - val_accuracy: 0.3129\n",
      "Epoch 9/10\n",
      "25/25 [==============================] - 181s 7s/step - loss: 1.8486 - accuracy: 0.3457 - val_loss: 1.8756 - val_accuracy: 0.2925\n",
      "Epoch 10/10\n",
      "25/25 [==============================] - 181s 7s/step - loss: 1.9940 - accuracy: 0.3099 - val_loss: 2.0944 - val_accuracy: 0.2721\n"
     ]
    },
    {
     "data": {
      "text/plain": [
       "<keras.src.callbacks.History at 0x1767c40d0>"
      ]
     },
     "execution_count": 10,
     "metadata": {},
     "output_type": "execute_result"
    }
   ],
   "source": [
    "model.fit(trainGenerator, epochs=10, validation_data=valGenerator)"
   ]
  },
  {
   "cell_type": "code",
   "execution_count": 11,
   "id": "61d94179",
   "metadata": {},
   "outputs": [
    {
     "name": "stderr",
     "output_type": "stream",
     "text": [
      "2023-05-31 19:02:22.566521: I tensorflow/core/common_runtime/executor.cc:1210] [/device:CPU:0] (DEBUG INFO) Executor start aborting (this does not indicate an error and you can ignore this message): INVALID_ARGUMENT: You must feed a value for placeholder tensor 'Placeholder/_0' with dtype int32\n",
      "\t [[{{node Placeholder/_0}}]]\n"
     ]
    },
    {
     "name": "stdout",
     "output_type": "stream",
     "text": [
      "133/133 [==============================] - 34s 255ms/step - loss: 1.9201 - accuracy: 0.3308\n",
      "Test loss: 1.9201064109802246\n",
      "Test accuracy: 0.3308270573616028\n"
     ]
    }
   ],
   "source": [
    "loss, accuracy = model.evaluate(testGenerator)\n",
    "print(f'Test loss: {loss}')\n",
    "print(f'Test accuracy: {accuracy}')"
   ]
  },
  {
   "cell_type": "code",
   "execution_count": 12,
   "id": "b0eb02e3",
   "metadata": {},
   "outputs": [
    {
     "name": "stderr",
     "output_type": "stream",
     "text": [
      "/Users/ppr/miniforge3/envs/sophomore/lib/python3.9/site-packages/keras/src/engine/training.py:3000: UserWarning: You are saving your model as an HDF5 file via `model.save()`. This file format is considered legacy. We recommend using instead the native Keras format, e.g. `model.save('my_model.keras')`.\n",
      "  saving_api.save_model(\n"
     ]
    }
   ],
   "source": [
    "model.save('ResNet50Model-1.h5')"
   ]
  },
  {
   "cell_type": "code",
   "execution_count": 13,
   "id": "d9694808",
   "metadata": {},
   "outputs": [],
   "source": [
    "model.save('ResNet50Model-1.keras')"
   ]
  }
 ],
 "metadata": {
  "kernelspec": {
   "display_name": "Python 3 (ipykernel)",
   "language": "python",
   "name": "python3"
  },
  "language_info": {
   "codemirror_mode": {
    "name": "ipython",
    "version": 3
   },
   "file_extension": ".py",
   "mimetype": "text/x-python",
   "name": "python",
   "nbconvert_exporter": "python",
   "pygments_lexer": "ipython3",
   "version": "3.9.16"
  }
 },
 "nbformat": 4,
 "nbformat_minor": 5
}
