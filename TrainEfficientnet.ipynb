{
 "cells": [
  {
   "cell_type": "code",
   "execution_count": 1,
   "id": "26189295",
   "metadata": {},
   "outputs": [],
   "source": [
    "import os\n",
    "import numpy as np\n",
    "import subprocess\n",
    "from keras.preprocessing.image import ImageDataGenerator\n",
    "from keras.utils import to_categorical\n",
    "from keras.models import Sequential\n",
    "from keras.layers import Dense, Dropout, GlobalAveragePooling2D\n",
    "from keras.optimizers import Adam\n",
    "from keras.callbacks import ModelCheckpoint\n",
    "from efficientnet.keras import EfficientNetB0"
   ]
  },
  {
   "cell_type": "code",
   "execution_count": 2,
   "id": "4bc2a45f",
   "metadata": {},
   "outputs": [],
   "source": [
    "trainDir = \"/Users/ppr/Desktop/Project/Intern-Year2/Datasets/GrayDatasetsResizeAugmented/train\"\n",
    "valDir = \"/Users/ppr/Desktop/Project/Intern-Year2/Datasets/GrayDatasetsResizeAugmented/val\"\n",
    "testDir = \"/Users/ppr/Desktop/Project/Intern-Year2/Datasets/GrayDatasetsResizeAugmented/test\""
   ]
  },
  {
   "cell_type": "code",
   "execution_count": 3,
   "id": "5a121298",
   "metadata": {},
   "outputs": [],
   "source": [
    "imgWidth, imgHeight = 640, 640\n",
    "learningRate = 0.001\n",
    "numClasses = 11\n",
    "batchSize = 32\n",
    "epochs = 10"
   ]
  },
  {
   "cell_type": "code",
   "execution_count": 4,
   "id": "140fe97e",
   "metadata": {},
   "outputs": [],
   "source": [
    "trainDatagen = ImageDataGenerator(rescale=1./255)\n",
    "valDatagen = ImageDataGenerator(rescale=1./255)\n",
    "testDatagen = ImageDataGenerator(rescale=1./255)"
   ]
  },
  {
   "cell_type": "code",
   "execution_count": 5,
   "id": "16e5e95d",
   "metadata": {},
   "outputs": [
    {
     "name": "stdout",
     "output_type": "stream",
     "text": [
      "Found 781 images belonging to 11 classes.\n",
      "Found 147 images belonging to 11 classes.\n",
      "Found 133 images belonging to 11 classes.\n"
     ]
    }
   ],
   "source": [
    "trainGenerator = trainDatagen.flow_from_directory(\n",
    "        trainDir,\n",
    "        target_size=(imgWidth, imgHeight),\n",
    "        batch_size=batchSize,\n",
    "        class_mode='categorical')\n",
    "\n",
    "validationGenerator = valDatagen.flow_from_directory(\n",
    "        valDir,\n",
    "        target_size=(imgWidth, imgHeight),\n",
    "        batch_size=batchSize,\n",
    "        class_mode='categorical')\n",
    "\n",
    "testGenerator = testDatagen.flow_from_directory(\n",
    "        testDir,\n",
    "        target_size=(imgWidth, imgHeight),\n",
    "        batch_size=1,\n",
    "        shuffle=False,\n",
    "        class_mode='categorical')"
   ]
  },
  {
   "cell_type": "code",
   "execution_count": 6,
   "id": "d90e208b",
   "metadata": {},
   "outputs": [],
   "source": [
    "numTrainSamples = trainGenerator.samples\n",
    "numValSamples = validationGenerator.samples"
   ]
  },
  {
   "cell_type": "code",
   "execution_count": 7,
   "id": "58411db9",
   "metadata": {},
   "outputs": [],
   "source": [
    "# Convert labels to one-hot encoding\n",
    "trainLabels = to_categorical(trainGenerator.classes, num_classes=numClasses)\n",
    "valLabels = to_categorical(validationGenerator.classes, num_classes=numClasses)"
   ]
  },
  {
   "cell_type": "code",
   "execution_count": 8,
   "id": "50ddfe63",
   "metadata": {},
   "outputs": [],
   "source": [
    "base_model = EfficientNetB0(weights='imagenet', include_top=False, input_shape=(imgWidth, imgHeight, 3))\n",
    "\n",
    "model = Sequential()\n",
    "model.add(base_model)\n",
    "model.add(GlobalAveragePooling2D())\n",
    "model.add(Dropout(0.5))\n",
    "model.add(Dense(numClasses, activation='softmax'))"
   ]
  },
  {
   "cell_type": "code",
   "execution_count": 9,
   "id": "800b42d1",
   "metadata": {},
   "outputs": [
    {
     "name": "stdout",
     "output_type": "stream",
     "text": [
      "Model: \"sequential\"\n",
      "_________________________________________________________________\n",
      " Layer (type)                Output Shape              Param #   \n",
      "=================================================================\n",
      " efficientnet-b0 (Functiona  (None, 20, 20, 1280)      4049564   \n",
      " l)                                                              \n",
      "                                                                 \n",
      " global_average_pooling2d (  (None, 1280)              0         \n",
      " GlobalAveragePooling2D)                                         \n",
      "                                                                 \n",
      " dropout (Dropout)           (None, 1280)              0         \n",
      "                                                                 \n",
      " dense (Dense)               (None, 11)                14091     \n",
      "                                                                 \n",
      "=================================================================\n",
      "Total params: 4063655 (15.50 MB)\n",
      "Trainable params: 4021639 (15.34 MB)\n",
      "Non-trainable params: 42016 (164.12 KB)\n",
      "_________________________________________________________________\n"
     ]
    }
   ],
   "source": [
    "model.summary()"
   ]
  },
  {
   "cell_type": "code",
   "execution_count": 10,
   "id": "440c1ad5",
   "metadata": {},
   "outputs": [],
   "source": [
    "for layer in base_model.layers:\n",
    "    layer.trainable = False"
   ]
  },
  {
   "cell_type": "code",
   "execution_count": 11,
   "id": "02f25916",
   "metadata": {},
   "outputs": [
    {
     "name": "stderr",
     "output_type": "stream",
     "text": [
      "WARNING:absl:At this time, the v2.11+ optimizer `tf.keras.optimizers.Adam` runs slowly on M1/M2 Macs, please use the legacy Keras optimizer instead, located at `tf.keras.optimizers.legacy.Adam`.\n",
      "WARNING:absl:There is a known slowdown when using v2.11+ Keras optimizers on M1/M2 Macs. Falling back to the legacy Keras optimizer, i.e., `tf.keras.optimizers.legacy.Adam`.\n"
     ]
    }
   ],
   "source": [
    "optimizer = Adam(learning_rate=learningRate)\n",
    "model.compile(optimizer=optimizer, loss='categorical_crossentropy', metrics=['accuracy'])"
   ]
  },
  {
   "cell_type": "code",
   "execution_count": 12,
   "id": "99311fea",
   "metadata": {},
   "outputs": [],
   "source": [
    "checkpoint = ModelCheckpoint('model.h5', monitor='val_loss', save_best_only=True, save_weights_only=False, mode='auto')"
   ]
  },
  {
   "cell_type": "code",
   "execution_count": 13,
   "id": "7d14278e",
   "metadata": {},
   "outputs": [
    {
     "name": "stdout",
     "output_type": "stream",
     "text": [
      "Epoch 1/10\n"
     ]
    },
    {
     "name": "stderr",
     "output_type": "stream",
     "text": [
      "2023-05-31 12:39:50.130619: I tensorflow/core/common_runtime/executor.cc:1210] [/device:CPU:0] (DEBUG INFO) Executor start aborting (this does not indicate an error and you can ignore this message): INVALID_ARGUMENT: You must feed a value for placeholder tensor 'Placeholder/_0' with dtype int32\n",
      "\t [[{{node Placeholder/_0}}]]\n"
     ]
    },
    {
     "name": "stdout",
     "output_type": "stream",
     "text": [
      "24/24 [==============================] - ETA: 0s - loss: 2.0377 - accuracy: 0.2951"
     ]
    },
    {
     "name": "stderr",
     "output_type": "stream",
     "text": [
      "2023-05-31 12:40:42.786206: I tensorflow/core/common_runtime/executor.cc:1210] [/device:CPU:0] (DEBUG INFO) Executor start aborting (this does not indicate an error and you can ignore this message): INVALID_ARGUMENT: You must feed a value for placeholder tensor 'Placeholder/_0' with dtype int32\n",
      "\t [[{{node Placeholder/_0}}]]\n"
     ]
    },
    {
     "name": "stdout",
     "output_type": "stream",
     "text": [
      "24/24 [==============================] - 62s 2s/step - loss: 2.0377 - accuracy: 0.2951 - val_loss: 1.7229 - val_accuracy: 0.5156\n",
      "Epoch 2/10\n"
     ]
    },
    {
     "name": "stderr",
     "output_type": "stream",
     "text": [
      "/Users/ppr/miniforge3/envs/sophomore/lib/python3.9/site-packages/keras/src/engine/training.py:3000: UserWarning: You are saving your model as an HDF5 file via `model.save()`. This file format is considered legacy. We recommend using instead the native Keras format, e.g. `model.save('my_model.keras')`.\n",
      "  saving_api.save_model(\n"
     ]
    },
    {
     "name": "stdout",
     "output_type": "stream",
     "text": [
      "24/24 [==============================] - 58s 2s/step - loss: 1.4415 - accuracy: 0.5821 - val_loss: 1.3896 - val_accuracy: 0.6797\n",
      "Epoch 3/10\n",
      "24/24 [==============================] - 58s 2s/step - loss: 1.1414 - accuracy: 0.6956 - val_loss: 1.1831 - val_accuracy: 0.7266\n",
      "Epoch 4/10\n",
      "24/24 [==============================] - 59s 2s/step - loss: 0.9601 - accuracy: 0.7623 - val_loss: 1.0958 - val_accuracy: 0.7188\n",
      "Epoch 5/10\n",
      "24/24 [==============================] - 58s 2s/step - loss: 0.8322 - accuracy: 0.7797 - val_loss: 1.0506 - val_accuracy: 0.7031\n",
      "Epoch 6/10\n",
      "24/24 [==============================] - 57s 2s/step - loss: 0.7490 - accuracy: 0.8304 - val_loss: 0.9720 - val_accuracy: 0.7188\n",
      "Epoch 7/10\n",
      "24/24 [==============================] - 57s 2s/step - loss: 0.6676 - accuracy: 0.8478 - val_loss: 0.9227 - val_accuracy: 0.7422\n",
      "Epoch 8/10\n",
      "24/24 [==============================] - 57s 2s/step - loss: 0.6040 - accuracy: 0.8585 - val_loss: 0.8913 - val_accuracy: 0.7578\n",
      "Epoch 9/10\n",
      "24/24 [==============================] - 57s 2s/step - loss: 0.5647 - accuracy: 0.8678 - val_loss: 0.8119 - val_accuracy: 0.7734\n",
      "Epoch 10/10\n",
      "24/24 [==============================] - 57s 2s/step - loss: 0.5256 - accuracy: 0.8705 - val_loss: 0.7917 - val_accuracy: 0.7891\n"
     ]
    },
    {
     "data": {
      "text/plain": [
       "<keras.src.callbacks.History at 0x28bd14d90>"
      ]
     },
     "execution_count": 13,
     "metadata": {},
     "output_type": "execute_result"
    }
   ],
   "source": [
    "model.fit(\n",
    "        trainGenerator,\n",
    "        steps_per_epoch=numTrainSamples // batchSize,\n",
    "        epochs=epochs,\n",
    "        validation_data=validationGenerator,\n",
    "        validation_steps=numValSamples // batchSize,\n",
    "        callbacks=[checkpoint])"
   ]
  },
  {
   "cell_type": "code",
   "execution_count": 14,
   "id": "4d6e4804",
   "metadata": {},
   "outputs": [
    {
     "name": "stdout",
     "output_type": "stream",
     "text": [
      "\r",
      "1/4 [======>.......................] - ETA: 0s - loss: 1.1948 - accuracy: 1.0000"
     ]
    },
    {
     "name": "stderr",
     "output_type": "stream",
     "text": [
      "2023-05-31 12:49:30.973946: I tensorflow/core/common_runtime/executor.cc:1210] [/device:CPU:0] (DEBUG INFO) Executor start aborting (this does not indicate an error and you can ignore this message): INVALID_ARGUMENT: You must feed a value for placeholder tensor 'Placeholder/_0' with dtype int32\n",
      "\t [[{{node Placeholder/_0}}]]\n"
     ]
    },
    {
     "name": "stdout",
     "output_type": "stream",
     "text": [
      "4/4 [==============================] - 0s 91ms/step - loss: 0.5477 - accuracy: 1.0000\n",
      "Test accuracy: 1.0\n"
     ]
    }
   ],
   "source": [
    "test_loss, test_acc = model.evaluate(testGenerator, steps = testGenerator.samples // batchSize)\n",
    "print('Test accuracy:', test_acc)"
   ]
  },
  {
   "cell_type": "code",
   "execution_count": 15,
   "id": "aa627f51",
   "metadata": {},
   "outputs": [],
   "source": [
    "model.save('efficientnetModel.h5')"
   ]
  },
  {
   "cell_type": "code",
   "execution_count": 16,
   "id": "ebb28591",
   "metadata": {},
   "outputs": [],
   "source": [
    "model.save('efficientnetModel.keras')"
   ]
  }
 ],
 "metadata": {
  "kernelspec": {
   "display_name": "Python 3 (ipykernel)",
   "language": "python",
   "name": "python3"
  },
  "language_info": {
   "codemirror_mode": {
    "name": "ipython",
    "version": 3
   },
   "file_extension": ".py",
   "mimetype": "text/x-python",
   "name": "python",
   "nbconvert_exporter": "python",
   "pygments_lexer": "ipython3",
   "version": "3.9.16"
  }
 },
 "nbformat": 4,
 "nbformat_minor": 5
}
