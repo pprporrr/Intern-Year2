{
 "cells": [
  {
   "cell_type": "code",
   "execution_count": 1,
   "id": "1df64faf",
   "metadata": {},
   "outputs": [],
   "source": [
    "import numpy as np\n",
    "from PIL import Image\n",
    "import tensorflow as tf\n",
    "from tensorflow.keras.preprocessing.image import ImageDataGenerator"
   ]
  },
  {
   "cell_type": "code",
   "execution_count": 2,
   "id": "5417ed4b",
   "metadata": {},
   "outputs": [],
   "source": [
    "train_data_dir = '/Users/ppr/Desktop/Project/Intern-Year2/Datasets/GrayDatasetsResizeAugmented/train'\n",
    "val_data_dir = '/Users/ppr/Desktop/Project/Intern-Year2/Datasets/GrayDatasetsResizeAugmented/val'\n",
    "test_data_dir = '/Users/ppr/Desktop/Project/Intern-Year2/Datasets/GrayDatasetsResizeAugmented/test'"
   ]
  },
  {
   "cell_type": "code",
   "execution_count": 3,
   "id": "a9b988bd",
   "metadata": {},
   "outputs": [
    {
     "name": "stdout",
     "output_type": "stream",
     "text": [
      "Found 781 images belonging to 11 classes.\n",
      "Found 147 images belonging to 11 classes.\n",
      "Found 133 images belonging to 11 classes.\n"
     ]
    }
   ],
   "source": [
    "# Data generator for training set\n",
    "train_datagen = ImageDataGenerator(\n",
    "\trescale=1./255\n",
    ")\n",
    "train_generator = train_datagen.flow_from_directory(\n",
    "    train_data_dir,\n",
    "    target_size=(640, 640),\n",
    "    color_mode='grayscale',\n",
    "    batch_size=32,\n",
    "    class_mode='categorical')\n",
    "\n",
    "# Data generator for validation set\n",
    "val_datagen = ImageDataGenerator(\n",
    "    rescale=1./255\n",
    ")\n",
    "val_generator = val_datagen.flow_from_directory(\n",
    "    val_data_dir,\n",
    "    target_size=(640, 640),\n",
    "    color_mode='grayscale',\n",
    "    batch_size=32,\n",
    "    class_mode='categorical')\n",
    "\n",
    "# Data generator for test set\n",
    "test_datagen = ImageDataGenerator(\n",
    "    rescale=1./255\n",
    ")\n",
    "test_generator = test_datagen.flow_from_directory(\n",
    "    test_data_dir,\n",
    "    target_size=(640, 640),\n",
    "    color_mode='grayscale',\n",
    "    batch_size=32,\n",
    "    class_mode='categorical')"
   ]
  },
  {
   "cell_type": "code",
   "execution_count": 4,
   "id": "90ac79a9",
   "metadata": {},
   "outputs": [
    {
     "name": "stdout",
     "output_type": "stream",
     "text": [
      "Model: \"sequential_2\"\n",
      "_________________________________________________________________\n",
      " Layer (type)                Output Shape              Param #   \n",
      "=================================================================\n",
      " sequential (Sequential)     (None, 1280)              199821760 \n",
      "                                                                 \n",
      " sequential_1 (Sequential)   (None, 11)                369803    \n",
      "                                                                 \n",
      "=================================================================\n",
      "Total params: 200191563 (763.67 MB)\n",
      "Trainable params: 200191563 (763.67 MB)\n",
      "Non-trainable params: 0 (0.00 Byte)\n",
      "_________________________________________________________________\n"
     ]
    }
   ],
   "source": [
    "submodel_1 = tf.keras.Sequential([\n",
    "    tf.keras.layers.Conv2D(64, (3, 3), activation='relu', input_shape=(640, 640, 1)),\n",
    "    tf.keras.layers.MaxPooling2D((2, 2)),\n",
    "    tf.keras.layers.Conv2D(128, (3, 3), activation='relu'),\n",
    "    tf.keras.layers.MaxPooling2D((2, 2)),\n",
    "    tf.keras.layers.Conv2D(256, (3, 3), activation='relu'),\n",
    "    tf.keras.layers.MaxPooling2D((2, 2)),\n",
    "    tf.keras.layers.Flatten(),\n",
    "    tf.keras.layers.Dense(128, activation='relu'),\n",
    "    tf.keras.layers.Dropout(0.2),\n",
    "    tf.keras.layers.Dense(64, activation='relu'),\n",
    "    tf.keras.layers.Dropout(0.2),\n",
    "    tf.keras.layers.Dense(1280, activation='relu')\n",
    "])\n",
    "\n",
    "submodel_2 = tf.keras.Sequential([\n",
    "    tf.keras.layers.Dense(256, activation='relu', input_shape=(1280,)),\n",
    "    tf.keras.layers.Dense(128, activation='relu'),\n",
    "    tf.keras.layers.Dense(64, activation='relu'),\n",
    "    tf.keras.layers.Dense(11, activation='softmax')\n",
    "])\n",
    "\n",
    "model = tf.keras.Sequential([\n",
    "    submodel_1,\n",
    "    submodel_2\n",
    "])\n",
    "\n",
    "model.summary()"
   ]
  },
  {
   "cell_type": "code",
   "execution_count": 5,
   "id": "7f3b7b47",
   "metadata": {},
   "outputs": [
    {
     "name": "stderr",
     "output_type": "stream",
     "text": [
      "WARNING:absl:At this time, the v2.11+ optimizer `tf.keras.optimizers.Adam` runs slowly on M1/M2 Macs, please use the legacy Keras optimizer instead, located at `tf.keras.optimizers.legacy.Adam`.\n",
      "WARNING:absl:There is a known slowdown when using v2.11+ Keras optimizers on M1/M2 Macs. Falling back to the legacy Keras optimizer, i.e., `tf.keras.optimizers.legacy.Adam`.\n"
     ]
    }
   ],
   "source": [
    "optimizer = tf.keras.optimizers.legacy.Adam(learning_rate=0.001)\n",
    "model.compile(optimizer=optimizer, loss='categorical_crossentropy', metrics=['accuracy'])"
   ]
  },
  {
   "cell_type": "code",
   "execution_count": 6,
   "id": "daa5a44a",
   "metadata": {},
   "outputs": [],
   "source": [
    "epochs = 50\n",
    "steps_per_epoch = train_generator.n // train_generator.batch_size\n",
    "validation_steps = val_generator.n // val_generator.batch_size"
   ]
  },
  {
   "cell_type": "code",
   "execution_count": 7,
   "id": "5e036e2f",
   "metadata": {},
   "outputs": [
    {
     "name": "stdout",
     "output_type": "stream",
     "text": [
      "Epoch 1/50\n"
     ]
    },
    {
     "name": "stderr",
     "output_type": "stream",
     "text": [
      "2023-05-31 04:23:18.980949: I tensorflow/core/common_runtime/executor.cc:1210] [/device:CPU:0] (DEBUG INFO) Executor start aborting (this does not indicate an error and you can ignore this message): INVALID_ARGUMENT: You must feed a value for placeholder tensor 'Placeholder/_0' with dtype int32\n",
      "\t [[{{node Placeholder/_0}}]]\n"
     ]
    },
    {
     "name": "stdout",
     "output_type": "stream",
     "text": [
      "24/24 [==============================] - ETA: 0s - loss: 2.4596 - accuracy: 0.1335 "
     ]
    },
    {
     "name": "stderr",
     "output_type": "stream",
     "text": [
      "2023-05-31 04:36:05.915412: I tensorflow/core/common_runtime/executor.cc:1210] [/device:CPU:0] (DEBUG INFO) Executor start aborting (this does not indicate an error and you can ignore this message): INVALID_ARGUMENT: You must feed a value for placeholder tensor 'Placeholder/_0' with dtype int32\n",
      "\t [[{{node Placeholder/_0}}]]\n"
     ]
    },
    {
     "name": "stdout",
     "output_type": "stream",
     "text": [
      "24/24 [==============================] - 787s 31s/step - loss: 2.4596 - accuracy: 0.1335 - val_loss: 2.3424 - val_accuracy: 0.3047\n",
      "Epoch 2/50\n",
      "24/24 [==============================] - 692s 29s/step - loss: 2.2201 - accuracy: 0.2266 - val_loss: 2.0885 - val_accuracy: 0.2734\n",
      "Epoch 3/50\n",
      "24/24 [==============================] - 672s 28s/step - loss: 2.0431 - accuracy: 0.2377 - val_loss: 2.0205 - val_accuracy: 0.2734\n",
      "Epoch 4/50\n",
      "24/24 [==============================] - 669s 28s/step - loss: 1.8876 - accuracy: 0.2897 - val_loss: 2.1405 - val_accuracy: 0.1484\n",
      "Epoch 5/50\n",
      "24/24 [==============================] - 671s 28s/step - loss: 1.7164 - accuracy: 0.3391 - val_loss: 1.9708 - val_accuracy: 0.3281\n",
      "Epoch 6/50\n",
      "24/24 [==============================] - 561s 23s/step - loss: 1.5145 - accuracy: 0.4406 - val_loss: 2.2551 - val_accuracy: 0.3359\n",
      "Epoch 7/50\n",
      "24/24 [==============================] - 331s 14s/step - loss: 1.3017 - accuracy: 0.4726 - val_loss: 1.9893 - val_accuracy: 0.4219\n",
      "Epoch 8/50\n",
      "24/24 [==============================] - 335s 14s/step - loss: 1.2040 - accuracy: 0.5621 - val_loss: 2.0295 - val_accuracy: 0.4297\n",
      "Epoch 9/50\n",
      "24/24 [==============================] - 332s 14s/step - loss: 0.9947 - accuracy: 0.6021 - val_loss: 2.2144 - val_accuracy: 0.4609\n",
      "Epoch 10/50\n",
      "24/24 [==============================] - 336s 14s/step - loss: 0.9030 - accuracy: 0.6676 - val_loss: 2.0742 - val_accuracy: 0.5000\n",
      "Epoch 11/50\n",
      "24/24 [==============================] - 334s 14s/step - loss: 0.7654 - accuracy: 0.7210 - val_loss: 2.2448 - val_accuracy: 0.4844\n",
      "Epoch 12/50\n",
      "24/24 [==============================] - 333s 14s/step - loss: 0.6658 - accuracy: 0.7610 - val_loss: 2.1287 - val_accuracy: 0.4688\n",
      "Epoch 13/50\n",
      "24/24 [==============================] - 336s 14s/step - loss: 0.5485 - accuracy: 0.8184 - val_loss: 2.0908 - val_accuracy: 0.4375\n",
      "Epoch 14/50\n",
      "24/24 [==============================] - 335s 14s/step - loss: 0.4308 - accuracy: 0.8598 - val_loss: 1.7768 - val_accuracy: 0.5234\n",
      "Epoch 15/50\n",
      "24/24 [==============================] - 336s 14s/step - loss: 0.3986 - accuracy: 0.8879 - val_loss: 2.1262 - val_accuracy: 0.5234\n",
      "Epoch 16/50\n",
      "24/24 [==============================] - 335s 14s/step - loss: 0.3448 - accuracy: 0.8798 - val_loss: 2.3497 - val_accuracy: 0.5234\n",
      "Epoch 17/50\n",
      "24/24 [==============================] - 332s 14s/step - loss: 0.4001 - accuracy: 0.8812 - val_loss: 1.9012 - val_accuracy: 0.5625\n",
      "Epoch 18/50\n",
      "24/24 [==============================] - 336s 14s/step - loss: 0.3660 - accuracy: 0.8945 - val_loss: 1.8639 - val_accuracy: 0.5391\n",
      "Epoch 19/50\n",
      "24/24 [==============================] - 337s 14s/step - loss: 0.2997 - accuracy: 0.9025 - val_loss: 2.0553 - val_accuracy: 0.6094\n",
      "Epoch 20/50\n",
      "24/24 [==============================] - 337s 14s/step - loss: 0.2928 - accuracy: 0.9279 - val_loss: 2.1520 - val_accuracy: 0.5234\n",
      "Epoch 21/50\n",
      "24/24 [==============================] - 337s 14s/step - loss: 0.2698 - accuracy: 0.9186 - val_loss: 1.8643 - val_accuracy: 0.4688\n",
      "Epoch 22/50\n",
      "24/24 [==============================] - 338s 14s/step - loss: 0.2800 - accuracy: 0.9199 - val_loss: 1.8857 - val_accuracy: 0.4922\n",
      "Epoch 23/50\n",
      "24/24 [==============================] - 340s 14s/step - loss: 0.2544 - accuracy: 0.9266 - val_loss: 2.0327 - val_accuracy: 0.5625\n",
      "Epoch 24/50\n",
      "24/24 [==============================] - 340s 14s/step - loss: 0.1791 - accuracy: 0.9453 - val_loss: 2.1407 - val_accuracy: 0.5312\n",
      "Epoch 25/50\n",
      "24/24 [==============================] - 338s 14s/step - loss: 0.2681 - accuracy: 0.9332 - val_loss: 2.5024 - val_accuracy: 0.4531\n",
      "Epoch 26/50\n",
      "24/24 [==============================] - 337s 14s/step - loss: 0.2262 - accuracy: 0.9332 - val_loss: 2.3383 - val_accuracy: 0.5156\n",
      "Epoch 27/50\n",
      "24/24 [==============================] - 337s 14s/step - loss: 0.1604 - accuracy: 0.9573 - val_loss: 2.3798 - val_accuracy: 0.5156\n",
      "Epoch 28/50\n",
      "24/24 [==============================] - 336s 14s/step - loss: 0.1296 - accuracy: 0.9680 - val_loss: 2.3632 - val_accuracy: 0.5312\n",
      "Epoch 29/50\n",
      "24/24 [==============================] - 336s 14s/step - loss: 0.2222 - accuracy: 0.9426 - val_loss: 2.1023 - val_accuracy: 0.5312\n",
      "Epoch 30/50\n",
      "24/24 [==============================] - 336s 14s/step - loss: 0.1703 - accuracy: 0.9453 - val_loss: 2.3341 - val_accuracy: 0.4609\n",
      "Epoch 31/50\n",
      "24/24 [==============================] - 336s 14s/step - loss: 0.1965 - accuracy: 0.9466 - val_loss: 1.9242 - val_accuracy: 0.5312\n",
      "Epoch 32/50\n",
      "24/24 [==============================] - 339s 14s/step - loss: 0.1491 - accuracy: 0.9599 - val_loss: 2.1093 - val_accuracy: 0.4609\n",
      "Epoch 33/50\n",
      "24/24 [==============================] - 340s 14s/step - loss: 0.1613 - accuracy: 0.9506 - val_loss: 2.0094 - val_accuracy: 0.4922\n",
      "Epoch 34/50\n",
      "24/24 [==============================] - 332s 14s/step - loss: 0.1559 - accuracy: 0.9533 - val_loss: 1.9009 - val_accuracy: 0.5625\n",
      "Epoch 35/50\n",
      "24/24 [==============================] - 332s 14s/step - loss: 0.1310 - accuracy: 0.9626 - val_loss: 2.1079 - val_accuracy: 0.5547\n",
      "Epoch 36/50\n",
      "24/24 [==============================] - 333s 14s/step - loss: 0.1681 - accuracy: 0.9533 - val_loss: 1.9262 - val_accuracy: 0.4922\n",
      "Epoch 37/50\n",
      "24/24 [==============================] - 331s 14s/step - loss: 0.1859 - accuracy: 0.9479 - val_loss: 1.9120 - val_accuracy: 0.4688\n",
      "Epoch 38/50\n",
      "24/24 [==============================] - 330s 14s/step - loss: 0.1111 - accuracy: 0.9760 - val_loss: 2.2080 - val_accuracy: 0.5312\n",
      "Epoch 39/50\n",
      "24/24 [==============================] - 331s 14s/step - loss: 0.2351 - accuracy: 0.9506 - val_loss: 1.9427 - val_accuracy: 0.4688\n",
      "Epoch 40/50\n",
      "24/24 [==============================] - 332s 14s/step - loss: 0.1362 - accuracy: 0.9653 - val_loss: 2.3749 - val_accuracy: 0.4688\n",
      "Epoch 41/50\n",
      "24/24 [==============================] - 331s 14s/step - loss: 0.1195 - accuracy: 0.9626 - val_loss: 2.2182 - val_accuracy: 0.4766\n",
      "Epoch 42/50\n",
      "24/24 [==============================] - 330s 14s/step - loss: 0.1421 - accuracy: 0.9653 - val_loss: 2.0741 - val_accuracy: 0.5078\n",
      "Epoch 43/50\n",
      "24/24 [==============================] - 330s 14s/step - loss: 0.1398 - accuracy: 0.9680 - val_loss: 2.2446 - val_accuracy: 0.5391\n",
      "Epoch 44/50\n",
      "24/24 [==============================] - 333s 14s/step - loss: 0.0757 - accuracy: 0.9813 - val_loss: 2.3713 - val_accuracy: 0.5000\n",
      "Epoch 45/50\n",
      "24/24 [==============================] - 333s 14s/step - loss: 0.0818 - accuracy: 0.9680 - val_loss: 2.6437 - val_accuracy: 0.4766\n",
      "Epoch 46/50\n",
      "24/24 [==============================] - 336s 14s/step - loss: 0.1372 - accuracy: 0.9613 - val_loss: 2.2394 - val_accuracy: 0.5078\n",
      "Epoch 47/50\n",
      "24/24 [==============================] - 335s 14s/step - loss: 0.0956 - accuracy: 0.9800 - val_loss: 2.1963 - val_accuracy: 0.4922\n",
      "Epoch 48/50\n",
      "24/24 [==============================] - 334s 14s/step - loss: 0.0898 - accuracy: 0.9746 - val_loss: 2.3883 - val_accuracy: 0.5078\n",
      "Epoch 49/50\n",
      "24/24 [==============================] - 331s 14s/step - loss: 0.1021 - accuracy: 0.9653 - val_loss: 2.1751 - val_accuracy: 0.5000\n",
      "Epoch 50/50\n",
      "24/24 [==============================] - 341s 14s/step - loss: 0.0615 - accuracy: 0.9831 - val_loss: 2.4544 - val_accuracy: 0.4922\n"
     ]
    },
    {
     "data": {
      "text/plain": [
       "<keras.src.callbacks.History at 0x16c3efd90>"
      ]
     },
     "execution_count": 7,
     "metadata": {},
     "output_type": "execute_result"
    }
   ],
   "source": [
    "model.fit(train_generator,\n",
    "          epochs=epochs,\n",
    "          steps_per_epoch=steps_per_epoch,\n",
    "          validation_data=val_generator,\n",
    "          validation_steps=validation_steps)"
   ]
  },
  {
   "cell_type": "code",
   "execution_count": 8,
   "id": "4c9f86b2",
   "metadata": {},
   "outputs": [
    {
     "name": "stderr",
     "output_type": "stream",
     "text": [
      "2023-05-31 09:36:20.840562: I tensorflow/core/common_runtime/executor.cc:1210] [/device:CPU:0] (DEBUG INFO) Executor start aborting (this does not indicate an error and you can ignore this message): INVALID_ARGUMENT: You must feed a value for placeholder tensor 'Placeholder/_0' with dtype int32\n",
      "\t [[{{node Placeholder/_0}}]]\n"
     ]
    },
    {
     "name": "stdout",
     "output_type": "stream",
     "text": [
      "4/4 [==============================] - 11s 3s/step - loss: 2.4441 - accuracy: 0.5000\n",
      "Test Loss: 2.444065809249878\n",
      "Test Accuracy: 0.5\n"
     ]
    }
   ],
   "source": [
    "test_loss, test_accuracy = model.evaluate(test_generator, steps=test_generator.n // test_generator.batch_size)\n",
    "print('Test Loss:', test_loss)\n",
    "print('Test Accuracy:', test_accuracy)"
   ]
  },
  {
   "cell_type": "code",
   "execution_count": 9,
   "id": "5bd9e7c7",
   "metadata": {},
   "outputs": [
    {
     "name": "stderr",
     "output_type": "stream",
     "text": [
      "/Users/ppr/miniforge3/envs/sophomore/lib/python3.9/site-packages/keras/src/engine/training.py:3000: UserWarning: You are saving your model as an HDF5 file via `model.save()`. This file format is considered legacy. We recommend using instead the native Keras format, e.g. `model.save('my_model.keras')`.\n",
      "  saving_api.save_model(\n"
     ]
    }
   ],
   "source": [
    "model.save(\"scratchModel.h5\")"
   ]
  },
  {
   "cell_type": "code",
   "execution_count": null,
   "id": "0a3fe51a",
   "metadata": {},
   "outputs": [],
   "source": [
    "model.save(\"scratchModel.keras\")"
   ]
  }
 ],
 "metadata": {
  "celltoolbar": "Edit Metadata",
  "kernelspec": {
   "display_name": "Python 3 (ipykernel)",
   "language": "python",
   "name": "python3"
  },
  "language_info": {
   "codemirror_mode": {
    "name": "ipython",
    "version": 3
   },
   "file_extension": ".py",
   "mimetype": "text/x-python",
   "name": "python",
   "nbconvert_exporter": "python",
   "pygments_lexer": "ipython3",
   "version": "3.9.16"
  }
 },
 "nbformat": 4,
 "nbformat_minor": 5
}
